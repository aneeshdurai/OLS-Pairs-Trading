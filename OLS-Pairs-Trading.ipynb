{
 "cells": [
  {
   "cell_type": "code",
   "execution_count": null,
   "id": "89904c81",
   "metadata": {},
   "outputs": [],
   "source": [
    "import numpy as np\n",
    "import pandas as pd\n",
    "import yfinance as yf\n",
    "import statsmodels.api as sm\n",
    "from statsmodels.tsa.stattools import coint\n",
    "from sklearn import linear_model"
   ]
  },
  {
   "cell_type": "markdown",
   "id": "6b3a7086",
   "metadata": {},
   "source": [
    "## Cointegration test "
   ]
  },
  {
   "cell_type": "code",
   "execution_count": null,
   "id": "5c7682df",
   "metadata": {},
   "outputs": [],
   "source": [
    "def coInt(df, stock1, stock2):\n",
    "    # run regression of AAPL on GOOG\n",
    "    res1 = sm.OLS(df[stock1], sm.add_constant(df[stock2])).fit()\n",
    "    resid = res1.resid\n",
    "    _, pvalue, _ = coint(df_tech['AAPL'], df_tech['GOOG'])\n",
    "    return pvalue"
   ]
  },
  {
   "cell_type": "markdown",
   "id": "a4d2b83c",
   "metadata": {},
   "source": [
    "Tech industry data is downloaded from yfinance and then stored in a dataframe. Similar treatment is replicated for health and energy industries in later sections."
   ]
  },
  {
   "cell_type": "code",
   "execution_count": null,
   "id": "977337d8",
   "metadata": {
    "lines_to_next_cell": 2
   },
   "outputs": [],
   "source": [
    "# Tech Industries\n",
    "\n",
    "df_aapl = yf.download(\"AAPL\", start=\"2023-01-01\", end=\"2023-04-30\")\n",
    "df_msft = yf.download(\"MSFT\", start=\"2023-01-01\", end=\"2023-04-30\")\n",
    "df_meta = yf.download(\"META\", start=\"2023-01-01\", end=\"2023-04-30\")\n",
    "df_goog = yf.download(\"GOOG\", start=\"2023-01-01\", end=\"2023-04-30\")\n",
    "df_tech = pd.concat([df_aapl[\"Close\"], df_msft[\"Close\"], df_meta[\"Close\"], df_goog[\"Close\"]], axis=1)\n",
    "df_tech = df_tech.diff()\n",
    "df_tech.replace([np.inf, -np.inf], np.nan, inplace=True)\n",
    "df_tech = df_tech.dropna()\n",
    "df_tech.columns = ['AAPL', 'MSFT', 'META', 'GOOG']\n",
    "\n",
    "df_tech"
   ]
  },
  {
   "cell_type": "code",
   "execution_count": null,
   "id": "43fa8ddb",
   "metadata": {
    "lines_to_next_cell": 2
   },
   "outputs": [],
   "source": [
    "# Correlations of All Possible Pairings\n",
    "\n",
    "df_tech['r_AAPL_MSFT'] = df_tech['AAPL'].corr(df_tech['MSFT'])\n",
    "df_tech['r_AAPL_META'] = df_tech['AAPL'].corr(df_tech['META'])\n",
    "df_tech['r_AAPL_GOOG'] = df_tech['AAPL'].corr(df_tech['GOOG'])\n",
    "df_tech['r_MSFT_META'] = df_tech['MSFT'].corr(df_tech['META'])\n",
    "df_tech['r_MSFT_GOOG'] = df_tech['MSFT'].corr(df_tech['GOOG'])\n",
    "df_tech['r_META_GOOG'] = df_tech['META'].corr(df_tech['GOOG'])\n",
    "\n",
    "# Price Ratios of All Possible Pairings\n",
    "\n",
    "df_tech['ratio_AAPL_MSFT'] = df_tech['AAPL']/(df_tech['MSFT'])\n",
    "df_tech['ratio_AAPL_META'] = df_tech['AAPL']/(df_tech['META'])\n",
    "df_tech['ratio_AAPL_GOOG'] = df_tech['AAPL']/(df_tech['GOOG'])\n",
    "df_tech['ratio_MSFT_META'] = df_tech['MSFT']/(df_tech['META'])\n",
    "df_tech['ratio_MSFT_GOOG'] = df_tech['MSFT']/(df_tech['GOOG'])\n",
    "df_tech['ratio_META_GOOG'] = df_tech['META']/(df_tech['GOOG'])\n",
    "\n",
    "# Betas of all Possible Pairings\n",
    "\n",
    "df_tech['b_AAPL_MSFT'] = np.cov(df_tech['AAPL'], df_tech['MSFT'])[0][1]/np.var(df_tech['MSFT'])\n",
    "df_tech['b_AAPL_META'] = np.cov(df_tech['AAPL'], df_tech['META'])[0][1]/np.var(df_tech['META'])\n",
    "df_tech['b_AAPL_GOOG'] = np.cov(df_tech['AAPL'], df_tech['GOOG'])[0][1]/np.var(df_tech['GOOG'])\n",
    "df_tech['b_MSFT_META'] = np.cov(df_tech['MSFT'], df_tech['META'])[0][1]/np.var(df_tech['META'])\n",
    "df_tech['b_MSFT_GOOG'] = np.cov(df_tech['MSFT'], df_tech['GOOG'])[0][1]/np.var(df_tech['GOOG'])\n",
    "df_tech['b_META_GOOG'] = np.cov(df_tech['META'], df_tech['GOOG'])[0][1]/np.var(df_tech['GOOG'])\n",
    "\n",
    "# CoIngration Test of all Possible Pairings\n",
    "\n",
    "df_tech['coInt_AAPL_MSFT'] = coInt(df_tech, 'AAPL', 'MSFT')\n",
    "df_tech['coInt_AAPL_META'] = coInt(df_tech, 'AAPL', 'META')\n",
    "df_tech['coInt_AAPL_GOOG'] = coInt(df_tech, 'AAPL', 'GOOG')\n",
    "df_tech['coInt_MSFT_META'] = coInt(df_tech, 'MSFT', 'META')\n",
    "df_tech['coInt_MSFT_GOOG'] = coInt(df_tech, 'MSFT', 'GOOG')\n",
    "df_tech['coInt_META_GOOG'] = coInt(df_tech, 'META', 'GOOG')\n",
    "\n",
    "df_tech"
   ]
  },
  {
   "cell_type": "markdown",
   "id": "699e628b",
   "metadata": {},
   "source": [
    "## OLS Regression - Tech Industry "
   ]
  },
  {
   "cell_type": "code",
   "execution_count": null,
   "id": "369a8c1b",
   "metadata": {},
   "outputs": [],
   "source": [
    "x_tech = df_tech[['AAPL', 'b_AAPL_MSFT', 'r_AAPL_MSFT']]\n",
    "y_tech = (df_tech['MSFT'])\n",
    "\n",
    "regr_tech = linear_model.LinearRegression()\n",
    "regr_tech.fit(x_tech, y_tech)\n",
    "\n",
    "print('Intercept: \\n', regr_tech.intercept_)\n",
    "print('Coefficients: \\n', regr_tech.coef_)\n",
    "\n",
    "# with statsmodels\n",
    "x_tech = sm.add_constant(x_tech) # adding a constant\n",
    " \n",
    "model_tech = sm.OLS(y_tech, x_tech).fit()\n",
    "predictions_tech = model_tech.predict(x_tech) \n",
    " \n",
    "print_model_tech = model_tech.summary()\n",
    "print(print_model_tech)"
   ]
  },
  {
   "cell_type": "markdown",
   "id": "48c9146e",
   "metadata": {},
   "source": [
    "## Trading Strategy - Tech Industry\n"
   ]
  },
  {
   "cell_type": "code",
   "execution_count": null,
   "id": "4cadcc65",
   "metadata": {
    "lines_to_next_cell": 2
   },
   "outputs": [],
   "source": [
    "###Trading Strategy\n",
    "\n",
    "def price_calc(df, stock1, stock2, regr):\n",
    "    b_str = 'b_' + stock1 + '_' + stock2\n",
    "    r_str = 'r_' + stock1 + '_' + stock2\n",
    "    coef = regr.coef_\n",
    "    inte = regr.intercept_\n",
    "    price = regr.intercept_ + df[stock1] * (coef[0] ** 1) + df[b_str] * (coef[1] ** 2) + df[r_str] * (coef[2] ** 3)\n",
    "    return price - df[stock2]\n",
    "\n",
    "price_calc(df_tech, 'AAPL', 'META', regr_tech)"
   ]
  },
  {
   "cell_type": "markdown",
   "id": "ec7a7c7d",
   "metadata": {},
   "source": [
    "## Healthcare Industry"
   ]
  },
  {
   "cell_type": "code",
   "execution_count": null,
   "id": "cc60a1fd",
   "metadata": {
    "lines_to_next_cell": 2
   },
   "outputs": [],
   "source": [
    "# Healthcare Industries\n",
    "df_mrk = yf.download(\"MRK\", start=\"2023-01-01\", end=\"2023-04-30\")\n",
    "df_jnj = yf.download(\"JNJ\", start=\"2023-01-01\", end=\"2023-04-30\")\n",
    "df_pfe = yf.download(\"PFE\", start=\"2023-01-01\", end=\"2023-04-30\")\n",
    "df_abt = yf.download(\"ABT\", start=\"2023-01-01\", end=\"2023-04-30\")\n",
    "df_health = pd.concat([df_mrk[\"Close\"], df_jnj[\"Close\"], df_pfe[\"Close\"], df_abt[\"Close\"]], axis=1)\n",
    "df_health = df_health.diff()\n",
    "df_health.replace([np.inf, -np.inf], np.nan, inplace=True)\n",
    "df_health = df_health.dropna()\n",
    "df_health.columns = ['MRK', 'JNJ', 'PFE', 'ABT']"
   ]
  },
  {
   "cell_type": "code",
   "execution_count": null,
   "id": "93389f4f",
   "metadata": {
    "lines_to_next_cell": 2
   },
   "outputs": [],
   "source": [
    "# Correlations for All Possible Pairings\n",
    "\n",
    "df_health['r_MRK_JNJ'] = df_health['MRK'].corr(df_health['JNJ'])\n",
    "df_health['r_MRK_PFE'] = df_health['MRK'].corr(df_health['PFE'])\n",
    "df_health['r_MRK_ABT'] = df_health['MRK'].corr(df_health['ABT'])\n",
    "df_health['r_JNJ_PFE'] = df_health['JNJ'].corr(df_health['PFE'])\n",
    "df_health['r_JNJ_ABT'] = df_health['JNJ'].corr(df_health['ABT'])\n",
    "df_health['r_PFE_ABT'] = df_health['PFE'].corr(df_health['ABT'])\n",
    "\n",
    "# Price Ratios for All Possible Pairings\n",
    "\n",
    "df_health['ratio_MRK_JNJ'] = df_health['MRK']/(df_health['JNJ'])\n",
    "df_health['ratio_MRK_JNJ'] = df_health['MRK']/(df_health['JNJ'])\n",
    "df_health['ratio_MRK_ABT'] = df_health['MRK']/(df_health['ABT'])\n",
    "df_health['ratio_JNJ_PFE'] = df_health['JNJ']/(df_health['PFE'])\n",
    "df_health['ratio_JNJ_ABT'] = df_health['JNJ']/(df_health['ABT'])\n",
    "df_health['ratio_PFE_ABT'] = df_health['PFE']/(df_health['ABT'])\n",
    "\n",
    "# Betas for All Possible Pairings\n",
    "\n",
    "df_health['b_MRK_JNJ'] = np.cov(df_health['MRK'], df_health['JNJ'])[0][1]/np.var(df_health['JNJ'])\n",
    "df_health['b_MRK_PFE'] = np.cov(df_health['MRK'], df_health['PFE'])[0][1]/np.var(df_health['PFE'])\n",
    "df_health['b_MRK_ABT'] = np.cov(df_health['MRK'], df_health['ABT'])[0][1]/np.var(df_health['ABT'])\n",
    "df_health['b_JNJ_PFE'] = np.cov(df_health['JNJ'], df_health['PFE'])[0][1]/np.var(df_health['PFE'])\n",
    "df_health['b_JNJ_ABT'] = np.cov(df_health['JNJ'], df_health['ABT'])[0][1]/np.var(df_health['ABT'])\n",
    "df_health['b_PFE_ABT'] = np.cov(df_health['PFE'], df_health['ABT'])[0][1]/np.var(df_health['ABT'])\n",
    "\n",
    "# CoIngration Test of all Possible Pairings\n",
    "\n",
    "df_health['coInt_MRK_JNJ'] = coInt(df_health, 'MRK', 'JNJ')\n",
    "df_health['coInt_MRK_PFE'] = coInt(df_health, 'MRK', 'PFE')\n",
    "df_health['coInt_MRK_ABT'] = coInt(df_health, 'MRK', 'ABT')\n",
    "df_health['coInt_JNJ_PFE'] = coInt(df_health, 'JNJ', 'PFE')\n",
    "df_health['coInt_JNJ_ABT'] = coInt(df_health, 'JNJ', 'ABT')\n",
    "df_health['coInt_PFE_ABT'] = coInt(df_health, 'PFE', 'ABT')\n",
    "\n",
    "df_health"
   ]
  },
  {
   "cell_type": "markdown",
   "id": "99856839",
   "metadata": {},
   "source": [
    "## OLS Regression - Healthcare Industry"
   ]
  },
  {
   "cell_type": "code",
   "execution_count": null,
   "id": "d7221acc",
   "metadata": {
    "lines_to_next_cell": 2
   },
   "outputs": [],
   "source": [
    "x_health = df_health[['MRK', 'b_MRK_JNJ', 'r_MRK_JNJ']]\n",
    "y_health = (df_health['JNJ'])\n",
    "\n",
    "regr_health = linear_model.LinearRegression()\n",
    "regr_health.fit(x_health, y_health)\n",
    "\n",
    "print('Intercept: \\n', regr_health.intercept_)\n",
    "print('Coefficients: \\n', regr_health.coef_)\n",
    "\n",
    "# with statsmodels\n",
    "x_health = sm.add_constant(x_health) # adding a constant\n",
    " \n",
    "model_health = sm.OLS(y_health, x_health).fit()\n",
    "predictions_health = model_health.predict(x_health) \n",
    " \n",
    "print_model_health = model_health.summary()\n",
    "print(print_model_health)"
   ]
  },
  {
   "cell_type": "markdown",
   "id": "7338fef1",
   "metadata": {},
   "source": [
    "## Trading Strategy - Healthcare Industry"
   ]
  },
  {
   "cell_type": "code",
   "execution_count": null,
   "id": "798414a6",
   "metadata": {
    "lines_to_next_cell": 2
   },
   "outputs": [],
   "source": [
    "price_calc(df_health, 'MRK', 'PFE', regr_health)"
   ]
  },
  {
   "cell_type": "markdown",
   "id": "1a3a013d",
   "metadata": {},
   "source": [
    "## Energy Industry"
   ]
  },
  {
   "cell_type": "code",
   "execution_count": null,
   "id": "6999f84b",
   "metadata": {
    "lines_to_next_cell": 2
   },
   "outputs": [],
   "source": [
    "# Energy Industries\n",
    "\n",
    "df_nee = yf.download(\"NEE\", start=\"2023-01-01\", end=\"2023-04-30\")\n",
    "df_cvx = yf.download(\"CVX\", start=\"2023-01-01\", end=\"2023-04-30\")\n",
    "df_xom = yf.download(\"XOM\", start=\"2023-01-01\", end=\"2023-04-30\")\n",
    "df_shel = yf.download(\"SHEL\", start=\"2023-01-01\", end=\"2023-04-30\")\n",
    "df_energy = pd.concat([df_nee[\"Close\"], df_cvx[\"Close\"], df_xom[\"Close\"], df_shel[\"Close\"]], axis=1)\n",
    "df_energy = df_energy.diff()\n",
    "df_energy.replace([np.inf, -np.inf], np.nan, inplace=True)\n",
    "df_energy = df_energy.dropna()\n",
    "df_energy.columns = ['NEE', 'CVX', 'XOM', 'SHEL']"
   ]
  },
  {
   "cell_type": "code",
   "execution_count": null,
   "id": "0af48809",
   "metadata": {
    "lines_to_next_cell": 2
   },
   "outputs": [],
   "source": [
    "# Correlation of All Possible Pairings\n",
    "\n",
    "df_energy['r_NEE_CVX'] = df_energy['NEE'].corr(df_energy['CVX'])\n",
    "df_energy['r_NEE_XOM'] = df_energy['NEE'].corr(df_energy['XOM'])\n",
    "df_energy['r_NEE_SHEL'] = df_energy['NEE'].corr(df_energy['SHEL'])\n",
    "df_energy['r_CVX_XOM'] = df_energy['CVX'].corr(df_energy['XOM'])\n",
    "df_energy['r_CVX_SHEL'] = df_energy['CVX'].corr(df_energy['SHEL'])\n",
    "df_energy['r_XOM_SHEL'] = df_energy['XOM'].corr(df_energy['SHEL'])\n",
    "\n",
    "# Price Ratio of All Possible Pairings\n",
    "\n",
    "df_energy['ratio_NEE_CVX'] = df_energy['NEE']/(df_energy['CVX'])\n",
    "df_energy['ratio_NEE_XOM'] = df_energy['NEE']/(df_energy['XOM'])\n",
    "df_energy['ratio_NEE_SHEL'] = df_energy['NEE']/(df_energy['SHEL'])\n",
    "df_energy['ratio_CVX_XOM'] = df_energy['CVX']/(df_energy['XOM'])\n",
    "df_energy['ratio_CVX_SHEL'] = df_energy['CVX']/(df_energy['SHEL'])\n",
    "df_energy['ratio_XOM_SHEL'] = df_energy['XOM']/(df_energy['SHEL'])\n",
    "\n",
    "# Betas of All Possible Pairings\n",
    "\n",
    "df_energy['b_NEE_CVX'] = np.cov(df_energy['NEE'], df_energy['CVX'])[0][1]/np.var(df_energy['CVX'])\n",
    "df_energy['b_NEE_XOM'] = np.cov(df_energy['NEE'], df_energy['XOM'])[0][1]/np.var(df_energy['XOM'])\n",
    "df_energy['b_NEE_SHEL'] = np.cov(df_energy['NEE'], df_energy['SHEL'])[0][1]/np.var(df_energy['SHEL'])\n",
    "df_energy['b_CVX_XOM'] = np.cov(df_energy['CVX'], df_energy['XOM'])[0][1]/np.var(df_energy['XOM'])\n",
    "df_energy['b_CVX_SHEL'] = np.cov(df_energy['CVX'], df_energy['SHEL'])[0][1]/np.var(df_energy['SHEL'])\n",
    "df_energy['b_XOM_SHEL'] = np.cov(df_energy['XOM'], df_energy['SHEL'])[0][1]/np.var(df_energy['SHEL'])\n",
    "\n",
    "# CoIngrations of All Possible Pairings\n",
    "\n",
    "df_energy['coInt_NEE_CVX'] = coInt(df_energy, 'NEE', 'CVX')\n",
    "df_energy['coInt_NEE_XOM'] = coInt(df_energy, 'NEE', 'XOM')\n",
    "df_energy['coInt_NEE_SHEL'] = coInt(df_energy, 'NEE', 'SHEL')\n",
    "df_energy['coInt_CVX_XOM'] = coInt(df_energy, 'CVX', 'XOM')\n",
    "df_energy['coInt_CVX_SHEL'] = coInt(df_energy, 'CVX', 'SHEL')\n",
    "df_energy['coInt_XOM_SHEL'] = coInt(df_energy, 'XOM', 'SHEL')\n",
    "\n",
    "df_energy"
   ]
  },
  {
   "cell_type": "markdown",
   "id": "7f69271e",
   "metadata": {},
   "source": [
    "## OLS - Energy Industry"
   ]
  },
  {
   "cell_type": "code",
   "execution_count": null,
   "id": "9eb234cf",
   "metadata": {
    "lines_to_next_cell": 2
   },
   "outputs": [],
   "source": [
    "x_energy = df_energy[['CVX', 'b_CVX_XOM', 'r_CVX_XOM']]\n",
    "y_energy = (df_energy['XOM'])\n",
    "\n",
    "regr_energy = linear_model.LinearRegression()\n",
    "regr_energy.fit(x_energy, y_energy)\n",
    "\n",
    "print('Intercept: \\n', regr_energy.intercept_)\n",
    "print('Coefficients: \\n', regr_energy.coef_)\n",
    "\n",
    "# with statsmodels\n",
    "x_energy = sm.add_constant(x_energy) # adding a constant\n",
    " \n",
    "model_energy = sm.OLS(y_energy, x_energy).fit()\n",
    "predictions_energy = model_energy.predict(x_energy) \n",
    " \n",
    "print_model_energy = model_energy.summary()\n",
    "print(print_model_energy)"
   ]
  },
  {
   "cell_type": "markdown",
   "id": "c60fa02a",
   "metadata": {},
   "source": [
    "## Trading Strategy - Energy Industry"
   ]
  },
  {
   "cell_type": "code",
   "execution_count": null,
   "id": "f37dc7bf",
   "metadata": {
    "lines_to_next_cell": 2
   },
   "outputs": [],
   "source": [
    "price_calc(df_energy, 'NEE', 'SHEL', regr_energy)"
   ]
  }
 ],
 "metadata": {
  "jupytext": {
   "cell_metadata_filter": "-all",
   "encoding": "# coding: utf-8",
   "executable": "/usr/bin/env python",
   "notebook_metadata_filter": "-all",
   "text_representation": {
    "extension": ".py",
    "format_name": "percent"
   }
  },
  "kernelspec": {
   "display_name": "Python 3 (ipykernel)",
   "language": "python",
   "name": "python3"
  }
 },
 "nbformat": 4,
 "nbformat_minor": 5
}
